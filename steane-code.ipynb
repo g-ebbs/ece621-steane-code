{
 "cells": [
  {
   "cell_type": "markdown",
   "id": "70704c8a",
   "metadata": {},
   "source": [
    "# Simulation of the 7 Qubit Steane QEC Code\n",
    "\n",
    "ECE 621 Quantum Error Correction Final Project\n",
    "\n",
    "Author: Grant Eberle"
   ]
  },
  {
   "cell_type": "markdown",
   "id": "09b81c70",
   "metadata": {},
   "source": [
    "Imports and Setup"
   ]
  },
  {
   "cell_type": "code",
   "execution_count": 1,
   "id": "af556528",
   "metadata": {},
   "outputs": [],
   "source": [
    "%matplotlib inline\n",
    "from qiskit import QuantumCircuit, QuantumRegister, ClassicalRegister, AncillaRegister, Aer, transpile, execute\n",
    "from qiskit.quantum_info import state_fidelity\n",
    "from qiskit.visualization import plot_histogram, plot_state_qsphere\n",
    "from qiskit.providers.aer.noise import depolarizing_error, phase_damping_error\n",
    "from qiskit.providers.aer import AerSimulator\n",
    "from matplotlib import pyplot as plt\n",
    "import numpy as np\n",
    "\n",
    "# Set simulator backend \n",
    "sim = Aer.get_backend('statevector_simulator')"
   ]
  },
  {
   "cell_type": "markdown",
   "id": "cdd18959",
   "metadata": {},
   "source": [
    "## ------- Code Used for Simulations -------"
   ]
  },
  {
   "cell_type": "markdown",
   "id": "132bf689",
   "metadata": {},
   "source": [
    "Function for Creating Logical |0> "
   ]
  },
  {
   "cell_type": "code",
   "execution_count": 2,
   "id": "9ba13ef9",
   "metadata": {},
   "outputs": [],
   "source": [
    "\"\"\"\n",
    "Encodes the logical |0> state \n",
    "    circuit: circuit output\n",
    "    logRegister: QuantumRegister of logical qubits in the circuit\n",
    "\"\"\"\n",
    "def prepLogicalZero(circuit, logRegister):\n",
    "    circuit.h(logRegister[0])\n",
    "    circuit.h(logRegister[1])\n",
    "    circuit.h(logRegister[3])\n",
    "    circuit.cx(logRegister[0], logRegister[2])\n",
    "    circuit.cx(logRegister[3], logRegister[5])\n",
    "    circuit.cx(logRegister[1], logRegister[6])\n",
    "    circuit.cx(logRegister[0], logRegister[4])\n",
    "    circuit.cx(logRegister[3], logRegister[6])\n",
    "    circuit.cx(logRegister[1], logRegister[5])\n",
    "    circuit.cx(logRegister[0], logRegister[6])\n",
    "    circuit.cx(logRegister[1], logRegister[2])\n",
    "    circuit.cx(logRegister[3], logRegister[4])\n",
    "    return   "
   ]
  },
  {
   "cell_type": "markdown",
   "id": "9f0c6cca",
   "metadata": {},
   "source": [
    "Functions for Stabilizer Encoding "
   ]
  },
  {
   "cell_type": "code",
   "execution_count": 3,
   "id": "e59d9fb5",
   "metadata": {},
   "outputs": [],
   "source": [
    "# Stabilizer Mappings\n",
    "# (Same for X and Z checks because CSS code)\n",
    "S0 = np.array([3, 4, 5, 6])\n",
    "S1 = np.array([1, 2, 5, 6])\n",
    "S2 = np.array([0, 2, 4, 6])\n",
    "\n",
    "\"\"\"\n",
    "Encodes a specified stabilizer in a given circuit\n",
    "    circuit: circuit output\n",
    "    logRegister: QuantumRegister of logical qubits in the circuit\n",
    "    logQubits: qubit indexes of for stabilizer \n",
    "    synRegister: QuantumRegister of syndrome qubits in the circuit\n",
    "    synQubit: index that identifies the syndrome qubit to encode \n",
    "    flag: True -> encode Z stabilizer, False -> encode X stabilizer \n",
    "\"\"\"\n",
    "def encodeStabs(circuit, logRegister, logQubits, synRegister, synQubit, flag):\n",
    "        for i in logQubits:\n",
    "            if flag:\n",
    "                circuit.cz(logRegister[i], synRegister[synQubit])\n",
    "            else:\n",
    "                circuit.cx(synRegister[synQubit], logRegister[i])\n",
    "        return\n",
    "       \n",
    "def encodeXStabs(circuit, logRegister, logQubits, synRegister, synQubit):\n",
    "    encodeStabs(circuit, logRegister, logQubits, synRegister, synQubit, False)\n",
    "    return\n",
    "        \n",
    "def encodeZStabs(circuit, logRegister, logQubits, synRegister, synQubit):\n",
    "    encodeStabs(circuit, logRegister, logQubits, synRegister, synQubit, True)\n",
    "    return"
   ]
  },
  {
   "cell_type": "markdown",
   "id": "8a97374d",
   "metadata": {},
   "source": [
    "Functions for Syndrome Extraction and Decoding "
   ]
  },
  {
   "cell_type": "code",
   "execution_count": 4,
   "id": "250aea7a",
   "metadata": {},
   "outputs": [],
   "source": [
    "\"\"\"\n",
    "Decodes a syndrome measurement for correction \n",
    "    circuit: circuit output\n",
    "    logRegister: QuantumRegister of logical qubits in the circuit\n",
    "    synMeasurment: Measured value of the synRegister\n",
    "    swap: True -> decode Z stabilizer, False -> decode X stabilizer  \n",
    "        (Note: assumes synRegister is prepared in the proper state for decoding/correction)\n",
    "\"\"\"\n",
    "def decodeSyns(circuit, logRegister, synMeasurement, flag):\n",
    "    if flag: # Z Syndrome -> X correction\n",
    "        for i in range(1, logRegister.size + 1):\n",
    "            circuit.x(logRegister[i - 1]).c_if(synMeasurement, i)\n",
    "    else: # X Syndrome -> Z correction\n",
    "        for i in range(1, logRegister.size + 1):\n",
    "            circuit.z(logRegister[i - 1]).c_if(synMeasurement, i)\n",
    "    return\n",
    "    \n",
    "def decodeXSyndromes(circuit, logRegister, synMeasurement):\n",
    "    decodeSyns(circuit, logRegister, synMeasurement, False)\n",
    "    return\n",
    "    \n",
    "def decodeZSyndromes(circuit, logRegister, synMeasurement):\n",
    "    decodeSyns(circuit, logRegister, synMeasurement, True)\n",
    "    return"
   ]
  },
  {
   "cell_type": "markdown",
   "id": "89fd688b",
   "metadata": {},
   "source": [
    "Function for Single Gate Errors "
   ]
  },
  {
   "cell_type": "code",
   "execution_count": 5,
   "id": "d7320fda",
   "metadata": {},
   "outputs": [],
   "source": [
    "\"\"\"\n",
    "Adds \"level\" number of gates to random qubits on the register with a probabilty based on prob\n",
    "    gate: the gate to be applied as a flip error\n",
    "    register: the register where the error gate will be applied\n",
    "    level: level of error that indicates the number of gates applied\n",
    "    prob: the physical error probability of each gate application\n",
    "\"\"\"\n",
    "def flipError(gate, register, level, prob):\n",
    "    if level == 0: \n",
    "        return\n",
    "    for i in range(level):\n",
    "        randProb = np.random.uniform(0, 1)\n",
    "        qubit = np.random.randint(0, register.size)\n",
    "        if randProb <= prob:\n",
    "            gate(register[qubit])\n",
    "    return"
   ]
  },
  {
   "cell_type": "markdown",
   "id": "2e37a34d",
   "metadata": {},
   "source": [
    "Function For Conducting a Single Round of Error Correction "
   ]
  },
  {
   "cell_type": "code",
   "execution_count": 6,
   "id": "a23072c4",
   "metadata": {},
   "outputs": [],
   "source": [
    "\"\"\"\n",
    "Preforms one round of error correction on a given circuit\n",
    "    circuit: the full QuantumCircuit\n",
    "    logRegister: QuantumRegister of logRegisterical qubits in the circuit\n",
    "    xSynRegister: QuantumRegister of x syndrome qubits in the circuit\n",
    "    zSynRegister: QuantumRegister of z syndrome qubits in the circuit\n",
    "    xMeasurments: ClassicalRegiser of x syndrome measurements in the circuit\n",
    "    zMeasurments: ClassicalRegiser of z syndrome measurements in the circuit\n",
    "    ---\n",
    "    errorLevel: is an optional error level for including measurement errors (for phenom model)\n",
    "    pError: is an optional error rate for including measurement errors (for phenom model)\n",
    "\"\"\"\n",
    "def errorCorrection(circuit, logRegister, xSynRegister, zSynRegister, xMeasurments, zMeasurments, errorLevel, pError):\n",
    "    \n",
    "    \"\"\" Encoding \"\"\" \n",
    "    # X Stabilizers\n",
    "    encodeXStabs(circuit, logRegister, S0, xSynRegister, 0)\n",
    "    encodeXStabs(circuit, logRegister, S1, xSynRegister, 1)\n",
    "    encodeXStabs(circuit, logRegister, S2, xSynRegister, 2)\n",
    "\n",
    "    # Z Stabilizers\n",
    "    encodeZStabs(circuit, logRegister, S0, zSynRegister, 0)\n",
    "    encodeZStabs(circuit, logRegister, S1, zSynRegister, 1)\n",
    "    encodeZStabs(circuit, logRegister, S2, zSynRegister, 2)\n",
    "    \n",
    "    \"\"\" Add Measurement Errors \"\"\"\n",
    "    flipError(circuit.z, xSynRegister, errorLevel, pError)\n",
    "    flipError(circuit.z, zSynRegister, errorLevel, pError)\n",
    "\n",
    "    \"\"\" Syndrome Extraction \"\"\"\n",
    "    # Measure in X basis\n",
    "    circuit.h(xSynRegister) \n",
    "    circuit.h(zSynRegister)\n",
    "    circuit.measure(xSynRegister, xMeasurments)\n",
    "    circuit.measure(zSynRegister, zMeasurments)\n",
    "    \n",
    "    \"\"\" Syndrome Decoding and Correction \"\"\"\n",
    "    # Decode and Correct X\n",
    "    decodeXSyndromes(circuit, logRegister, xMeasurments)\n",
    "\n",
    "    # Decode and Correct Z\n",
    "    decodeZSyndromes(circuit, logRegister, zMeasurments)\n",
    "    \n",
    "    return"
   ]
  },
  {
   "cell_type": "markdown",
   "id": "9680dc36",
   "metadata": {},
   "source": [
    "Function For Verifying the Logical State "
   ]
  },
  {
   "cell_type": "code",
   "execution_count": 7,
   "id": "8ef65985",
   "metadata": {},
   "outputs": [],
   "source": [
    "\"\"\"\n",
    "Checks a given statevector against a correct logical state\n",
    "    statevector: given statevector of a measured state\n",
    "    correctLogState: Array of string values for each correct superposition state\n",
    "    printText: Shows visual of result if true\n",
    "    returns: True if equal, false if not\n",
    "\"\"\"\n",
    "def verifyLogicalState(statevector, correctLogState, printText):\n",
    "    \n",
    "    # Collect Measured States\n",
    "    indices = []       \n",
    "    for i in range(statevector.dim):\n",
    "        if statevector[i] != 0:\n",
    "            indices.append( ((str(bin(i)[2:]).zfill(3+7)), statevector[i]) )\n",
    "\n",
    "    # Check for size difference\n",
    "    if not (len(indices) == len(correctLogState)):\n",
    "        return False\n",
    "    \n",
    "    # Print Results\n",
    "    if printText:\n",
    "        print('Correct: | Measured:')\n",
    "    j = 0\n",
    "    for i in indices:\n",
    "        correct = correctLogState[j]\n",
    "        measured = str(i[0][3:10][::-1])\n",
    "        if printText:\n",
    "            print(correct, ' | ', measured, ' === ', correct == measured)\n",
    "        if not correct == measured:\n",
    "            return False\n",
    "            \n",
    "        j = j + 1\n",
    "        \n",
    "    return True"
   ]
  },
  {
   "cell_type": "markdown",
   "id": "7cde3270",
   "metadata": {},
   "source": [
    "Ideal Circuit Simulation"
   ]
  },
  {
   "cell_type": "code",
   "execution_count": 8,
   "id": "5a35e85a",
   "metadata": {},
   "outputs": [],
   "source": [
    "\"\"\"\n",
    "Runs a basline simulation for testing logical |0> state prep\n",
    "    sim: the simulator used for the simulation\n",
    "    returns: statvector of the system after simulation (single shot statvector sim)\n",
    "\"\"\"\n",
    "def zeroLogCircuitSim(sim):\n",
    "    ## Circuit Prep\n",
    "    # Logical Qubit Register\n",
    "    log = QuantumRegister(7, name = \"logical\")\n",
    "\n",
    "    # Circuit\n",
    "    circuit = QuantumCircuit(log) \n",
    "    \n",
    "    # X Syndromes\n",
    "    xSyn = AncillaRegister(3, name = \"xSyn\")\n",
    "\n",
    "    # Z Syndromes\n",
    "    zSyn = AncillaRegister(3, name = \"zSyn\")\n",
    "\n",
    "    # X Syndrome Measurements\n",
    "    xMeas = ClassicalRegister(3, name = \"xMeas\")\n",
    "\n",
    "    # Z Syndrome Measurements\n",
    "    zMeas = ClassicalRegister(3, name = \"zMeas\")\n",
    "\n",
    "    # Full Circuit\n",
    "    circuit = QuantumCircuit(log, xSyn, zSyn, xMeas, zMeas)\n",
    "\n",
    "    # Prepare Logical |0> state\n",
    "    prepLogicalZero(circuit, log)\n",
    "    \n",
    "    return execute(circuit, sim, shots = 1).result().get_statevector()"
   ]
  },
  {
   "cell_type": "code",
   "execution_count": 9,
   "id": "10debd69",
   "metadata": {},
   "outputs": [],
   "source": [
    "\"\"\"\n",
    "Runs a simulation with multiple error options\n",
    "    errorLevel: max number of single qubit gate errors introduced\n",
    "    pError: error rate of single qubit error gates\n",
    "    sim: the simulator used for the simulation\n",
    "    measError: True -> adds errors in sydrome extraction measurements, False does not\n",
    "        (for code capacity vs phenom level sims)\n",
    "    returns: statvector of the system after simulation (single shot statvector sim)\n",
    "\"\"\"\n",
    "def errorCircuitSim(errorLevel, pError, sim, measError):\n",
    "    ## Circuit Prep\n",
    "    # Logical Qubit Register\n",
    "    log = QuantumRegister(7, name = \"logical\")\n",
    "\n",
    "    # X Syndromes\n",
    "    xSyn = AncillaRegister(3, name = \"xSyn\")\n",
    "\n",
    "    # Z Syndromes\n",
    "    zSyn = AncillaRegister(3, name = \"zSyn\")\n",
    "\n",
    "    # X Syndrome Measurements\n",
    "    xMeas = ClassicalRegister(3, name = \"xMeas\")\n",
    "\n",
    "    # Z Syndrome Measurements\n",
    "    zMeas = ClassicalRegister(3, name = \"zMeas\")\n",
    "\n",
    "    # Full Circuit\n",
    "    circuit = QuantumCircuit(log, xSyn, zSyn, xMeas, zMeas)\n",
    "\n",
    "    ## State Prep\n",
    "    # Set Syndrome Qubits to |+>\n",
    "    for i in range(xSyn.size):   \n",
    "        circuit.h(xSyn[i])\n",
    "        circuit.h(zSyn[i])   \n",
    "\n",
    "    # Prepare Logical |0> state\n",
    "    prepLogicalZero(circuit, log)\n",
    "    \n",
    "    \"\"\" APPLY ERRORS \"\"\"  \n",
    "    # Bit Flip Error\n",
    "    flipError(circuit.x, log, errorLevel, pError)\n",
    "    # Phase Flip Error\n",
    "    flipError(circuit.z, log, errorLevel, pError)\n",
    "    \n",
    "    # Error Correction\n",
    "    if measError:\n",
    "        errorCorrection(circuit, log, xSyn, zSyn, xMeas, zMeas, errorLevel, pError)\n",
    "    else:\n",
    "        errorCorrection(circuit, log, xSyn, zSyn, xMeas, zMeas, 0, 0)\n",
    "        \n",
    "    return execute(circuit, sim, shots = 1).result().get_statevector()"
   ]
  },
  {
   "cell_type": "code",
   "execution_count": 10,
   "id": "50af66f9",
   "metadata": {},
   "outputs": [],
   "source": [
    "\"\"\"\n",
    "Runs a simulation with multiple error options\n",
    "    errorLevel: max number of single qubit gate errors introduced\n",
    "    pError: error rate of single qubit error gates\n",
    "    measError: True -> adds errors in sydrome extraction measurements, False does not\n",
    "     (for code capacity vs phenom level sims)\n",
    "    sim: the simulator used for the simulation\n",
    "    samples: number of sample statvectors used in logical error rate calculation \n",
    "    correctLogState: the state used to determine if there was a logical error \n",
    "    returns: returns logical error rate calculated from samples run (single shot statvector sims)\n",
    "\"\"\"\n",
    "def calculateLogicalError(errorLevel, pError, measError, sim, samples, correctLogState):\n",
    "    logicalErrors = 0;\n",
    "    for i in range(samples):\n",
    "        measuredState = errorCircuitSim(errorLevel, pError, sim, measError)\n",
    "        if not verifyLogicalState(measuredState, correctLogZero, False):\n",
    "            logicalErrors = logicalErrors + 1\n",
    "    return logicalErrors / samples"
   ]
  },
  {
   "cell_type": "code",
   "execution_count": 11,
   "id": "029de4bd",
   "metadata": {},
   "outputs": [],
   "source": [
    "\"\"\"\n",
    "Runs a simulation with multiple error options and returns the logical error rates\n",
    "    errorLevel: max number of single qubit gate errors introduced\n",
    "    pError: error rate of single qubit error gates\n",
    "    measError: True -> adds errors in sydrome extraction measurements, False does not\n",
    "     (for code capacity vs phenom level sims)\n",
    "    sim: the simulator used for the simulation\n",
    "    samples: number of sample statvectors used in logical error rate calculation \n",
    "    correctLogState: the state used to determine if there was a logical error \n",
    "    probs: range of physical error rates for simulations\n",
    "    returns: a plot of the physical/logical error rate threshold \n",
    "\"\"\"\n",
    "def runThresholdCalculation(errorLevel, measError, sim, samples, correctLogState, probs):\n",
    "    logErrorRates = []\n",
    "    print(f'Running Level {errorLevel} Simulations ...')\n",
    "    for p in probs:\n",
    "        if measError:\n",
    "            logErrorRate = calculateLogicalError(errorLevel, p, p, sim, samples, correctLogZero)\n",
    "        else:\n",
    "            logErrorRate = calculateLogicalError(errorLevel, p, 0, sim, samples, correctLogZero)\n",
    "        logErrorRates.append(logErrorRate)\n",
    "    print(f'Level {errorLevel} Simulations Complete') \n",
    "    return logErrorRates"
   ]
  },
  {
   "cell_type": "markdown",
   "id": "b0e88332",
   "metadata": {},
   "source": [
    "## ------- Testing and Simulations -------"
   ]
  },
  {
   "cell_type": "markdown",
   "id": "e8d7f015",
   "metadata": {},
   "source": [
    "Verification of Proper |0> Logical State Prep"
   ]
  },
  {
   "cell_type": "code",
   "execution_count": 12,
   "id": "f832c24f",
   "metadata": {},
   "outputs": [
    {
     "name": "stdout",
     "output_type": "stream",
     "text": [
      "Correct: | Measured:\n",
      "0000000  |  0000000  ===  True\n",
      "0111100  |  0111100  ===  True\n",
      "1011010  |  1011010  ===  True\n",
      "1100110  |  1100110  ===  True\n",
      "1101001  |  1101001  ===  True\n",
      "1010101  |  1010101  ===  True\n",
      "0110011  |  0110011  ===  True\n",
      "0001111  |  0001111  ===  True\n",
      "Measured State == Logical |0> State? : True\n"
     ]
    }
   ],
   "source": [
    "# Correct Logical |0> State \n",
    "correctAmp = np.sqrt(1/8)\n",
    "correctLogZero = ['0000000',\n",
    "                  '0111100',\n",
    "                  '1011010',\n",
    "                  '1100110',\n",
    "                  '1101001',\n",
    "                  '1010101',\n",
    "                  '0110011',\n",
    "                  '0001111']\n",
    "\n",
    "# Create and Run Simulator for Prepare Zero Logical State \n",
    "measuredState = zeroLogCircuitSim(sim)\n",
    "\n",
    "# Verify Correct Prep\n",
    "print('Measured State == Logical |0> State? :', verifyLogicalState(measuredState, correctLogZero, True))"
   ]
  },
  {
   "cell_type": "code",
   "execution_count": 13,
   "id": "247bef35",
   "metadata": {},
   "outputs": [],
   "source": [
    "# Set parameter for number of sample statvectors used in logical error rate calculation \n",
    "samples = 1000\n",
    "\n",
    "# Values of Physical Error Rates \n",
    "probs = np.linspace(0,0.5,20)"
   ]
  },
  {
   "cell_type": "markdown",
   "id": "2bc55407",
   "metadata": {},
   "source": [
    "## Code Capacity Model Simulations"
   ]
  },
  {
   "cell_type": "code",
   "execution_count": 14,
   "id": "d7f97d44",
   "metadata": {
    "scrolled": false
   },
   "outputs": [
    {
     "name": "stdout",
     "output_type": "stream",
     "text": [
      "Running Level 1 Simulations ...\n",
      "Level 1 Simulations Complete\n"
     ]
    }
   ],
   "source": [
    "\"\"\" Level 1 Pauli X and Z Error Tests \"\"\"\n",
    "ccLevel1 = runThresholdCalculation(1, False, sim, samples, correctLogZero, probs)"
   ]
  },
  {
   "cell_type": "code",
   "execution_count": 15,
   "id": "eb3ee41c",
   "metadata": {},
   "outputs": [
    {
     "name": "stdout",
     "output_type": "stream",
     "text": [
      "Running Level 2 Simulations ...\n",
      "Level 2 Simulations Complete\n"
     ]
    }
   ],
   "source": [
    "\"\"\" Level 2 Pauli X and Z Error Tests \"\"\"\n",
    "ccLevel2 = runThresholdCalculation(2, False, sim, samples, correctLogZero, probs)"
   ]
  },
  {
   "cell_type": "code",
   "execution_count": 16,
   "id": "2c2274a5",
   "metadata": {
    "scrolled": false
   },
   "outputs": [
    {
     "name": "stdout",
     "output_type": "stream",
     "text": [
      "Running Level 3 Simulations ...\n",
      "Level 3 Simulations Complete\n"
     ]
    }
   ],
   "source": [
    "\"\"\" Level 3 Pauli X and Z Error Tests \"\"\"\n",
    "ccLevel3 = runThresholdCalculation(3, False, sim, samples, correctLogZero, probs)"
   ]
  },
  {
   "cell_type": "code",
   "execution_count": 17,
   "id": "d48bdae6",
   "metadata": {},
   "outputs": [
    {
     "name": "stdout",
     "output_type": "stream",
     "text": [
      "Running Level 4 Simulations ...\n",
      "Level 4 Simulations Complete\n"
     ]
    }
   ],
   "source": [
    "\"\"\" Level 4 Pauli X and Z Error Tests \"\"\"\n",
    "ccLevel4 = runThresholdCalculation(4, False, sim, samples, correctLogZero, probs)"
   ]
  },
  {
   "cell_type": "code",
   "execution_count": 18,
   "id": "a6c6f046",
   "metadata": {},
   "outputs": [
    {
     "name": "stdout",
     "output_type": "stream",
     "text": [
      "Running Level 5 Simulations ...\n",
      "Level 5 Simulations Complete\n"
     ]
    }
   ],
   "source": [
    "\"\"\" Level 5 Pauli X and Z Error Tests \"\"\"\n",
    "ccLevel5 = runThresholdCalculation(5, False, sim, samples, correctLogZero, probs)"
   ]
  },
  {
   "cell_type": "markdown",
   "id": "eb93d7b7",
   "metadata": {},
   "source": [
    "## Phenomenological Model Simulations"
   ]
  },
  {
   "cell_type": "code",
   "execution_count": 19,
   "id": "3eaa6283",
   "metadata": {},
   "outputs": [
    {
     "name": "stdout",
     "output_type": "stream",
     "text": [
      "Running Level 1 Simulations ...\n",
      "Level 1 Simulations Complete\n"
     ]
    }
   ],
   "source": [
    "\"\"\" Level 1 Pauli X and Z Error Tests \"\"\"\n",
    "phLevel1 = runThresholdCalculation(1, True, sim, samples, correctLogZero, probs)"
   ]
  },
  {
   "cell_type": "code",
   "execution_count": 20,
   "id": "942a038b",
   "metadata": {},
   "outputs": [
    {
     "name": "stdout",
     "output_type": "stream",
     "text": [
      "Running Level 2 Simulations ...\n",
      "Level 2 Simulations Complete\n"
     ]
    }
   ],
   "source": [
    "\"\"\" Level 2 Pauli X and Z Error Tests \"\"\"\n",
    "phLevel2 = runThresholdCalculation(2, True, sim, samples, correctLogZero, probs)"
   ]
  },
  {
   "cell_type": "code",
   "execution_count": 21,
   "id": "4a727e7e",
   "metadata": {
    "scrolled": true
   },
   "outputs": [
    {
     "name": "stdout",
     "output_type": "stream",
     "text": [
      "Running Level 3 Simulations ...\n",
      "Level 3 Simulations Complete\n"
     ]
    }
   ],
   "source": [
    "\"\"\" Level 3 Pauli X and Z Error Tests \"\"\"\n",
    "phLevel3 = runThresholdCalculation(3, True, sim, samples, correctLogZero, probs)"
   ]
  },
  {
   "cell_type": "code",
   "execution_count": 22,
   "id": "ef834e5d",
   "metadata": {},
   "outputs": [
    {
     "name": "stdout",
     "output_type": "stream",
     "text": [
      "Running Level 4 Simulations ...\n",
      "Level 4 Simulations Complete\n"
     ]
    }
   ],
   "source": [
    "\"\"\" Level 4 Pauli X and Z Error Tests \"\"\"\n",
    "phLevel4 = runThresholdCalculation(4, True, sim, samples, correctLogZero, probs)"
   ]
  },
  {
   "cell_type": "code",
   "execution_count": 23,
   "id": "d4739d8d",
   "metadata": {},
   "outputs": [
    {
     "name": "stdout",
     "output_type": "stream",
     "text": [
      "Running Level 5 Simulations ...\n",
      "Level 5 Simulations Complete\n"
     ]
    }
   ],
   "source": [
    "\"\"\" Level 5 Pauli X and Z Error Tests \"\"\"\n",
    "phLevel5 = runThresholdCalculation(5, True, sim, samples, correctLogZero, probs)"
   ]
  },
  {
   "cell_type": "markdown",
   "id": "08a8cfbb",
   "metadata": {},
   "source": [
    "## Code Capacity and Phenomenological Error Threshold Comparison"
   ]
  },
  {
   "cell_type": "code",
   "execution_count": 24,
   "id": "5e7b5d3f",
   "metadata": {},
   "outputs": [
    {
     "data": {
      "image/png": "[encoded data removed]",
      "text/plain": [
       "<Figure size 1080x360 with 1 Axes>"
      ]
     },
     "metadata": {
      "needs_background": "light"
     },
     "output_type": "display_data"
    }
   ],
   "source": [
    " \"\"\" Code Capacity Simulations \"\"\"\n",
    "\n",
    "# Create Plot For Results\n",
    "fig = plt.figure(figsize = (15,5))\n",
    "plt.title('Pauli X and Z Error Threshold - Model: Code Capacity')\n",
    "plt.plot(probs, ccLevel1, label = 'Level 1')\n",
    "plt.plot(probs, ccLevel2, label = 'Level 2')\n",
    "plt.plot(probs, ccLevel3, label = 'Level 3')\n",
    "plt.plot(probs, ccLevel4, label = 'Level 4')\n",
    "plt.plot(probs, ccLevel5, label = 'Level 5')\n",
    "plt.plot(probs, probs, label = 'p')\n",
    "plt.xlabel('p')\n",
    "plt.ylabel('Logical p')\n",
    "plt.ylim([0,1.05])\n",
    "plt.legend()\n",
    "plt.grid()\n",
    "plt.show()"
   ]
  },
  {
   "cell_type": "code",
   "execution_count": 25,
   "id": "f4a2da0f",
   "metadata": {},
   "outputs": [
    {
     "data": {
      "image/png": "[encoded data removed]",
      "text/plain": [
       "<Figure size 1080x360 with 1 Axes>"
      ]
     },
     "metadata": {
      "needs_background": "light"
     },
     "output_type": "display_data"
    }
   ],
   "source": [
    " \"\"\" Phenomenological Simulations \"\"\"\n",
    "\n",
    "# Create Plot For Results\n",
    "fig = plt.figure(figsize = (15,5))\n",
    "plt.title('Pauli X and Z Error Threshold - Model: Phenomenological')\n",
    "plt.plot(probs, phLevel1, label = 'Level 1')\n",
    "plt.plot(probs, phLevel2, label = 'Level 2')\n",
    "plt.plot(probs, phLevel3, label = 'Level 3')\n",
    "plt.plot(probs, phLevel4, label = 'Level 4')\n",
    "plt.plot(probs, phLevel5, label = 'Level 5')\n",
    "plt.plot(probs, probs, label = 'p')\n",
    "plt.xlabel('p')\n",
    "plt.ylabel('Logical p')\n",
    "plt.ylim([0,1.05])\n",
    "plt.legend()\n",
    "plt.grid()"
   ]
  }
 ],
 "metadata": {
  "kernelspec": {
   "display_name": "Python 3 (ipykernel)",
   "language": "python",
   "name": "python3"
  },
  "language_info": {
   "codemirror_mode": {
    "name": "ipython",
    "version": 3
   },
   "file_extension": ".py",
   "mimetype": "text/x-python",
   "name": "python",
   "nbconvert_exporter": "python",
   "pygments_lexer": "ipython3",
   "version": "3.8.8"
  }
 },
 "nbformat": 4,
 "nbformat_minor": 5
}
